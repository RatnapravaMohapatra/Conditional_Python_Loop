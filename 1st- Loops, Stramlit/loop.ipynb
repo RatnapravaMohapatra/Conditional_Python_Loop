{
 "cells": [
  {
   "cell_type": "markdown",
   "metadata": {},
   "source": [
    "LOOPS -- in programing world some time we keep on repeating , may be you want to repeat 5 statement so one way is copy & paste multiple times or other way is \n",
    "\n",
    "if you want to print the datascience 1000 times then what you will you cant copy for 1000 times , if you want to print 1000 times then you cant do manualy . that is the reason why we need to apply loop ->\n",
    "2 type of loops --  While loop & For loop"
   ]
  },
  {
   "cell_type": "code",
   "execution_count": 2,
   "metadata": {},
   "outputs": [
    {
     "name": "stdout",
     "output_type": "stream",
     "text": [
      "data science\n",
      "data science\n",
      "data science\n",
      "data science\n",
      "data science\n"
     ]
    }
   ],
   "source": [
    "print(\"data science\")\n",
    "print('data science')\n",
    "print('data science')\n",
    "print('data science')\n",
    "print('data science')"
   ]
  },
  {
   "cell_type": "code",
   "execution_count": 8,
   "metadata": {},
   "outputs": [
    {
     "name": "stdout",
     "output_type": "stream",
     "text": [
      "Data science\n",
      "Data science\n",
      "Data science\n",
      "Data science\n",
      "Data science\n"
     ]
    }
   ],
   "source": [
    "i = 1     #initialization\n",
    "while i <=5:  # condition\n",
    "    print('Data science')\n",
    "    i +=1  # increment\n",
    " "
   ]
  },
  {
   "cell_type": "code",
   "execution_count": 10,
   "metadata": {},
   "outputs": [
    {
     "name": "stdout",
     "output_type": "stream",
     "text": [
      "Ratna\n",
      "Ratna\n",
      "Ratna\n",
      "Ratna\n",
      "Ratna\n"
     ]
    }
   ],
   "source": [
    "i = 5\n",
    "while i >=1:\n",
    "    print(\"Ratna\")\n",
    "    i-=1"
   ]
  },
  {
   "cell_type": "code",
   "execution_count": 12,
   "metadata": {},
   "outputs": [
    {
     "name": "stdout",
     "output_type": "stream",
     "text": [
      "Ratna\n"
     ]
    }
   ],
   "source": [
    "i = 5\n",
    "while i <=5:\n",
    "    print(\"Ratna\")\n",
    "    i= i+1"
   ]
  },
  {
   "cell_type": "code",
   "execution_count": 14,
   "metadata": {},
   "outputs": [
    {
     "name": "stdout",
     "output_type": "stream",
     "text": [
      "Ratna\n",
      "Ratna\n",
      "Ratna\n",
      "Ratna\n",
      "Ratna\n"
     ]
    }
   ],
   "source": [
    "i = 5\n",
    "while i >= 1:\n",
    "    print(\"Ratna\")\n",
    "    i = i - 1"
   ]
  },
  {
   "cell_type": "markdown",
   "metadata": {},
   "source": [
    "can we use multiple while loop || nested while loop \n",
    "to understand nested while indepth understand you can use pycharm debug with f8 option"
   ]
  },
  {
   "cell_type": "code",
   "execution_count": 17,
   "metadata": {},
   "outputs": [
    {
     "name": "stdout",
     "output_type": "stream",
     "text": [
      "Ratna\n",
      "Prava\n",
      "Prava\n",
      "Prava\n",
      "Prava\n",
      "\n",
      "Ratna\n",
      "Prava\n",
      "Prava\n",
      "Prava\n",
      "Prava\n",
      "\n",
      "Ratna\n",
      "Prava\n",
      "Prava\n",
      "Prava\n",
      "Prava\n",
      "\n"
     ]
    }
   ],
   "source": [
    "i = 1\n",
    "while i <= 5:\n",
    "    print(\"Ratna\")  #  when we mention end then new line will not create\n",
    "    i = i + 1\n",
    "    j = 1\n",
    "    while j <= 4:\n",
    "        print(\"Prava\")\n",
    "        j = j + 1\n",
    "    i = i + 1\n",
    "    print()\n",
    "    \n",
    "    # the output which we got is very lengty but how to make them one line lets refer to below code"
   ]
  },
  {
   "cell_type": "code",
   "execution_count": 19,
   "metadata": {},
   "outputs": [
    {
     "name": "stdout",
     "output_type": "stream",
     "text": [
      " Ratna  Prava  Prava  Prava  Prava\n",
      " Ratna  Prava  Prava  Prava  Prava\n",
      " Ratna  Prava  Prava  Prava  Prava\n"
     ]
    }
   ],
   "source": [
    "i = 1\n",
    "while i <= 5:\n",
    "    print(\" Ratna\", end = \"\")  #  when we mention end then new line will not create\n",
    "    i = i + 1\n",
    "    j = 1\n",
    "    while j <= 4:\n",
    "        print(\"  Prava\", end =  \"\")\n",
    "        j = j + 1\n",
    "    i = i + 1\n",
    "    print()\n",
    "    \n",
    "    # the output which we got is very lengty but how to make them one line lets refer to below code"
   ]
  },
  {
   "cell_type": "code",
   "execution_count": 21,
   "metadata": {},
   "outputs": [
    {
     "name": "stdout",
     "output_type": "stream",
     "text": [
      " data science  *Technology   *Technology   *Technology   *Technology   *\n",
      " data science  *Technology   *Technology   *Technology   *Technology   *\n",
      " data science  *Technology   *Technology   *Technology   *Technology   *\n",
      " data science  *Technology   *Technology   *Technology   *Technology   *\n",
      " data science  *Technology   *Technology   *Technology   *Technology   *\n"
     ]
    }
   ],
   "source": [
    "i =1\n",
    "while i<=5:\n",
    "    print(\" data science\",end= \"  *\")\n",
    "    j=1\n",
    "    while j<=4:\n",
    "        \n",
    "        print(\"Technology\",end=\"   *\")\n",
    "        j = j+1\n",
    "    i = i+1\n",
    "    print()\n",
    "    "
   ]
  },
  {
   "cell_type": "code",
   "execution_count": 23,
   "metadata": {},
   "outputs": [
    {
     "name": "stdout",
     "output_type": "stream",
     "text": [
      "0 1 2 \n",
      "0 2 4 \n"
     ]
    }
   ],
   "source": [
    "# lets use while loop usig some numbers\n",
    "i = 1\n",
    "\n",
    "while i <= 2 :\n",
    "    j = 0\n",
    "    while  j <= 2 :\n",
    "        print(i*j, end=\" \")\n",
    "        j += 1\n",
    "    print()\n",
    "    i += 1"
   ]
  },
  {
   "cell_type": "code",
   "execution_count": null,
   "metadata": {},
   "outputs": [],
   "source": [
    "i = 1  # 2  # 3 # 4\n",
    "while i <=4:\n",
    "    j = 0   \n",
    "while j <=3:\n",
    "    print(i*j, end = \" \") #0,1,2,3 # 0,4,6 # 0,3,6,9 # 0,4,8,12\n",
    "    j += 1 \n",
    "print()\n",
    "i+=1"
   ]
  },
  {
   "cell_type": "markdown",
   "metadata": {},
   "source": [
    "For loop\n",
    "normally while loop it work with  condition but for loop work with sequence(list,string,int)"
   ]
  },
  {
   "cell_type": "code",
   "execution_count": null,
   "metadata": {},
   "outputs": [],
   "source": [
    "name = 'nit'\n",
    "for i in name:\n",
    "    print(i)\n",
    "    "
   ]
  },
  {
   "cell_type": "code",
   "execution_count": null,
   "metadata": {},
   "outputs": [],
   "source": [
    "name = [1,3.5,'hallo']\n",
    "for i in name:\n",
    "    print(i)"
   ]
  },
  {
   "cell_type": "code",
   "execution_count": null,
   "metadata": {},
   "outputs": [],
   "source": [
    "for i in  [2,3,7.8,'hi']:\n",
    "    print(i)\n"
   ]
  },
  {
   "cell_type": "code",
   "execution_count": null,
   "metadata": {},
   "outputs": [],
   "source": [
    "name1 = [1,3.5,'hallo']\n",
    "while i in name1:\n",
    "    print(i)"
   ]
  },
  {
   "cell_type": "code",
   "execution_count": 14,
   "metadata": {},
   "outputs": [
    {
     "ename": "IndentationError",
     "evalue": "expected an indented block after 'else' statement on line 9 (762782102.py, line 11)",
     "output_type": "error",
     "traceback": [
      "\u001b[1;36m  Cell \u001b[1;32mIn[14], line 11\u001b[1;36m\u001b[0m\n\u001b[1;33m    print(\"Loop Completed\")\u001b[0m\n\u001b[1;37m    ^\u001b[0m\n\u001b[1;31mIndentationError\u001b[0m\u001b[1;31m:\u001b[0m expected an indented block after 'else' statement on line 9\n"
     ]
    }
   ],
   "source": [
    "for i in range(5): \n",
    "\n",
    "    if i == 2: \n",
    "\n",
    "        break \n",
    "\n",
    "        print(i) \n",
    "\n",
    "else: \n",
    "\n",
    "print(\"Loop Completed\")\n"
   ]
  },
  {
   "cell_type": "code",
   "execution_count": 16,
   "metadata": {},
   "outputs": [
    {
     "name": "stdout",
     "output_type": "stream",
     "text": [
      "-6\n"
     ]
    }
   ],
   "source": [
    "x = 5 \n",
    "print(~x)\n"
   ]
  },
  {
   "cell_type": "code",
   "execution_count": null,
   "metadata": {},
   "outputs": [],
   "source": []
  }
 ],
 "metadata": {
  "kernelspec": {
   "display_name": "Python 3 (ipykernel)",
   "language": "python",
   "name": "python3"
  },
  "language_info": {
   "codemirror_mode": {
    "name": "ipython",
    "version": 3
   },
   "file_extension": ".py",
   "mimetype": "text/x-python",
   "name": "python",
   "nbconvert_exporter": "python",
   "pygments_lexer": "ipython3",
   "version": "3.12.4"
  }
 },
 "nbformat": 4,
 "nbformat_minor": 4
}
